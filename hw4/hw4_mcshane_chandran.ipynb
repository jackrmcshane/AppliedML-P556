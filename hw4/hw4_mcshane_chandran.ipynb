{
  "nbformat": 4,
  "nbformat_minor": 0,
  "metadata": {
    "colab": {
      "name": "kmeans_samp_std.ipynb",
      "provenance": [],
      "collapsed_sections": []
    },
    "kernelspec": {
      "name": "python3",
      "display_name": "Python 3"
    },
    "language_info": {
      "name": "python"
    }
  },
  "cells": [
    {
      "cell_type": "markdown",
      "metadata": {
        "id": "gSkWQAMKXnn1"
      },
      "source": [
        "## Partners:\n",
        "#### Manisha Chandran\n",
        "#### Jack McShane"
      ]
    },
    {
      "cell_type": "markdown",
      "metadata": {
        "id": "Ml4vf4vd0FxR"
      },
      "source": [
        "# Q1 K-means clustering"
      ]
    },
    {
      "cell_type": "markdown",
      "metadata": {
        "id": "ImXH20Ws4MD_"
      },
      "source": [
        "## imports"
      ]
    },
    {
      "cell_type": "code",
      "metadata": {
        "id": "S4BDTvKJyMkr"
      },
      "source": [
        "import numpy as np\n",
        "from numpy.random import randint\n",
        "import matplotlib.pyplot as plt\n",
        "from sklearn.datasets import fetch_openml\n",
        "from sklearn.cluster import KMeans\n",
        "from sklearn.decomposition import PCA\n",
        "from sklearn.preprocessing import StandardScaler"
      ],
      "execution_count": 56,
      "outputs": []
    },
    {
      "cell_type": "code",
      "metadata": {
        "colab": {
          "base_uri": "https://localhost:8080/"
        },
        "id": "pT2z-7zA28V2",
        "outputId": "4ffc7c09-fafa-405a-baed-feb778bac802"
      },
      "source": [
        "print('fetching MNIST dataset...')\n",
        "mnist = fetch_openml('mnist_784', version=1)\n",
        "x = mnist.data\n",
        "x.shape"
      ],
      "execution_count": 57,
      "outputs": [
        {
          "output_type": "stream",
          "text": [
            "fetching MNIST dataset...\n"
          ],
          "name": "stdout"
        },
        {
          "output_type": "execute_result",
          "data": {
            "text/plain": [
              "(70000, 784)"
            ]
          },
          "metadata": {
            "tags": []
          },
          "execution_count": 57
        }
      ]
    },
    {
      "cell_type": "code",
      "metadata": {
        "id": "AJYQXtF7s-qA"
      },
      "source": [
        "def scale(x: np.array):\n",
        "  return ((x / 255.) - .5) * 2\n",
        "\n",
        "def to_greyscale(arr: np.array):\n",
        "  return ((arr / 2.) + .5) * 255"
      ],
      "execution_count": 58,
      "outputs": []
    },
    {
      "cell_type": "code",
      "metadata": {
        "id": "Dvg7lh8do_zL"
      },
      "source": [
        "# zero-centering the dataset\n",
        "x_std = scale(x)"
      ],
      "execution_count": 59,
      "outputs": []
    },
    {
      "cell_type": "code",
      "metadata": {
        "id": "qAhjyr1NnHtI",
        "colab": {
          "base_uri": "https://localhost:8080/"
        },
        "outputId": "2d99a0ad-31b7-404f-c13a-5afd38883978"
      },
      "source": [
        "# sample 10k images from the dataset\n",
        "samples = randint(70000, size=10000)\n",
        "x_sampled = x_std[ samples ]\n",
        "x_sampled.shape # verifying that have the correct dimensionality"
      ],
      "execution_count": 60,
      "outputs": [
        {
          "output_type": "execute_result",
          "data": {
            "text/plain": [
              "(10000, 784)"
            ]
          },
          "metadata": {
            "tags": []
          },
          "execution_count": 60
        }
      ]
    },
    {
      "cell_type": "markdown",
      "metadata": {
        "id": "dMNRMWb94T6e"
      },
      "source": [
        "## Determining K using the elbow method"
      ]
    },
    {
      "cell_type": "code",
      "metadata": {
        "id": "hYla3mHX2_Zn"
      },
      "source": [
        "nclusters_start, nclusters_stop = 1, 25\n",
        "km_objs = [KMeans(n_clusters=i, init='random', random_state=42).fit(x_sampled) for i in range(nclusters_start, nclusters_stop + 1)]"
      ],
      "execution_count": 61,
      "outputs": []
    },
    {
      "cell_type": "code",
      "metadata": {
        "colab": {
          "base_uri": "https://localhost:8080/"
        },
        "id": "HYnvD4moFSCk",
        "outputId": "f1d455d6-d81a-4a79-b5ac-b99165ff8f63"
      },
      "source": [
        "inertias = [km_obj.inertia_ for km_obj in km_objs]\n",
        "print(*inertias)"
      ],
      "execution_count": 62,
      "outputs": [
        {
          "output_type": "stream",
          "text": [
            "2110335.595418507 1976740.3017287117 1881563.667779901 1805335.5137044801 1735739.47616763 1688619.5187416815 1651696.3662550612 1619091.7655077078 1593196.9018665988 1563727.533584048 1538984.153315217 1520595.0862117293 1499410.0881131126 1482062.5872662722 1464659.5661889054 1449095.8198162862 1434826.7588445863 1422100.5087582078 1410536.1146577534 1399650.9951980775 1388911.9044211407 1379865.484054945 1369473.2803207429 1361950.9523771785 1353302.2443083292\n"
          ],
          "name": "stdout"
        }
      ]
    },
    {
      "cell_type": "code",
      "metadata": {
        "colab": {
          "base_uri": "https://localhost:8080/",
          "height": 350
        },
        "id": "bG6oOLlzFuxi",
        "outputId": "855d7848-6d3f-4b49-d519-6d353b2bd154"
      },
      "source": [
        "# plotting squared loss\n",
        "%matplotlib inline\n",
        "\n",
        "fig, ax = plt.subplots(figsize=(18,5))\n",
        "centroids = range(nclusters_start, nclusters_stop + 1)\n",
        "ax.set_title('Number of Centroids vs. Squared Loss')\n",
        "ax.set_xlabel('Num. Centroids')\n",
        "ax.set_ylabel('Squared Loss')\n",
        "ax.xaxis.grid(True,ls='dotted')\n",
        "ax.yaxis.grid(True,ls='dotted')\n",
        "ax.plot(centroids, inertias, label='Squared Loss', color='steelblue', marker='d', markersize=8, linestyle='dashdot', linewidth=2)\n",
        "ax.legend()\n",
        "\n",
        "plt.show()\n"
      ],
      "execution_count": 63,
      "outputs": [
        {
          "output_type": "display_data",
          "data": {
            "image/png": "[encoded data removed]",
            "text/plain": [
              "<Figure size 1296x360 with 1 Axes>"
            ]
          },
          "metadata": {
            "tags": [],
            "needs_background": "light"
          }
        }
      ]
    },
    {
      "cell_type": "markdown",
      "metadata": {
        "id": "OWWYVX3Gajh1"
      },
      "source": [
        "#### Determining K:\n",
        "---\n",
        "<p> Determining the value for K (the number of clusters) for the dataset was difficult for this problem.  When using the elbow method as above, you generally hope to find a steep decline in the graph followed by a much more gradual decline.  That is not what we get in the graph above.  We tried all possible combinations of sampling, dimensionality reduction (using PCA), normalization, and standardization on the dataset. We varied the number of samples from 10k to 40k as well as varied the dimensionality reduction to feature spaces between 20x20 and 14x14. Nonetheless, the graphs stayed largely the same for each of these approaches.</p>\n",
        "<p>From the graph above, it would seem reasonable to me to choose a value of K anywhere from 10 to 20 clusters as the particularly steep drop off slows after 10 and all but dies out after 30.  One possibility for this is that there could very well be overlap between digits such as 0 and 8, 3 and 8, or 1 and 7. In this assignment, because we know something of the dataset (namely that there are 10 unique classes of digits in the dataset), we decided to use 10 clusters for performing K-means clustering.</p>"
      ]
    },
    {
      "cell_type": "code",
      "metadata": {
        "id": "nsek1bTNdxsD"
      },
      "source": [
        "kmeans = KMeans(n_clusters=10, init='random', random_state=42).fit(x_sampled)"
      ],
      "execution_count": 64,
      "outputs": []
    },
    {
      "cell_type": "code",
      "metadata": {
        "colab": {
          "base_uri": "https://localhost:8080/",
          "height": 227
        },
        "id": "pfvpnPf9enT-",
        "outputId": "d4a59e04-b43d-4dcd-92a5-c9d2c9269ca6"
      },
      "source": [
        "# plot the different centroids\n",
        "centroids = to_greyscale(kmeans.cluster_centers_)\n",
        "%matplotlib inline\n",
        "fig, ax = plt.subplots(nrows=2, ncols=5, sharex=True, sharey=True)\n",
        "ax = ax.flatten()\n",
        "for i, cent in enumerate(centroids):\n",
        "  img = cent.reshape(28,28)\n",
        "  ax[i].imshow(img, cmap='gray')"
      ],
      "execution_count": 65,
      "outputs": [
        {
          "output_type": "display_data",
          "data": {
            "image/png": "[encoded data removed]",
            "text/plain": [
              "<Figure size 432x288 with 10 Axes>"
            ]
          },
          "metadata": {
            "tags": [],
            "needs_background": "light"
          }
        }
      ]
    },
    {
      "cell_type": "markdown",
      "metadata": {
        "id": "515-c3kSghp_"
      },
      "source": [
        "#### Discuss the centroids\n",
        "---\n",
        "The clusters for the random initialization are not terrible, but certainly aren't as clear or as accurate as we would expect. Certainly there are some (such as 8, 1, 6, 3, 2, and 0) that seem to be fairly accurate regarding representation, but the others seem to have found some medium between classes. The second cluster seems to have overlap between 1's and 7's. the 4th cluster in the graph is a jumbled mess but if I had to guess, I would say it has overlap between 5 certainly and either 8's 0's or perhaps both. The 6th cluster is largely representative of 3's but seems to have a bit of overlap with 8's. Finally, the eighth cluster seems to have overlap between images of both 7's and 9's funny enough."
      ]
    },
    {
      "cell_type": "markdown",
      "metadata": {
        "id": "in-T6zwI4a1i"
      },
      "source": [
        "## K-means clustering (kmeans++ init)"
      ]
    },
    {
      "cell_type": "code",
      "metadata": {
        "id": "qL6CwUg-6XKY"
      },
      "source": [
        "kmplus_objs = [KMeans(n_clusters=i, random_state=42).fit(x_sampled) for i in range(nclusters_start, nclusters_stop + 1)]"
      ],
      "execution_count": 66,
      "outputs": []
    },
    {
      "cell_type": "code",
      "metadata": {
        "colab": {
          "base_uri": "https://localhost:8080/"
        },
        "id": "aTMS5KOOXOLe",
        "outputId": "0d79357b-b567-4bf6-d004-341c547e0aff"
      },
      "source": [
        "inertias = [km_obj.inertia_ for km_obj in kmplus_objs]\n",
        "print(*inertias)"
      ],
      "execution_count": 67,
      "outputs": [
        {
          "output_type": "stream",
          "text": [
            "2110335.595418507 1976739.1182996542 1881557.2446353333 1805336.4430131381 1735738.9187965724 1688626.147261172 1651695.404765476 1619093.4989226386 1589838.4874142162 1563702.0092947439 1538931.8391256442 1517924.9051970136 1499554.953726631 1480490.5686870154 1464618.9295870059 1450352.7762444823 1434971.8699578077 1422988.3632459203 1413717.9609568208 1399809.1426737208 1387562.8990603634 1378508.4704358566 1369265.253921765 1360211.1967133137 1352175.9074279696\n"
          ],
          "name": "stdout"
        }
      ]
    },
    {
      "cell_type": "code",
      "metadata": {
        "colab": {
          "base_uri": "https://localhost:8080/",
          "height": 350
        },
        "id": "XD_hytMsXM4U",
        "outputId": "497bfe70-50ff-4b99-b676-e833f21e47ba"
      },
      "source": [
        "# plotting squared loss\n",
        "%matplotlib inline\n",
        "\n",
        "fig, ax = plt.subplots(figsize=(18,5))\n",
        "centroids = range(nclusters_start, nclusters_stop + 1)\n",
        "ax.set_title('Number of Centroids vs. Squared Loss')\n",
        "ax.set_xlabel('Num. Centroids')\n",
        "ax.set_ylabel('Squared Loss')\n",
        "ax.xaxis.grid(True,ls='dotted')\n",
        "ax.yaxis.grid(True,ls='dotted')\n",
        "ax.plot(centroids, inertias, label='Squared Loss', color='steelblue', marker='d', markersize=8, linestyle='dashdot', linewidth=2)\n",
        "ax.legend()\n",
        "\n",
        "plt.show()\n"
      ],
      "execution_count": 68,
      "outputs": [
        {
          "output_type": "display_data",
          "data": {
            "image/png": "[encoded data removed]",
            "text/plain": [
              "<Figure size 1296x360 with 1 Axes>"
            ]
          },
          "metadata": {
            "tags": [],
            "needs_background": "light"
          }
        }
      ]
    },
    {
      "cell_type": "markdown",
      "metadata": {
        "id": "EKQvHXKXfe8B"
      },
      "source": [
        "#### Choosing K:\n",
        "---\n",
        "<p> The situation for the situation for the kmeans++ initialization was much the same as that above. We tried the same variations in data preparation and kernel number with nearly matchin graphs.  Due to this, and the knowledge we have of the dataset, we again chose to use 10 clusters when performing kmeans.</p>"
      ]
    },
    {
      "cell_type": "code",
      "metadata": {
        "id": "WbUgqYIcu1qt"
      },
      "source": [
        "kmplus = KMeans(n_clusters=10, random_state=42).fit(x_sampled)"
      ],
      "execution_count": 69,
      "outputs": []
    },
    {
      "cell_type": "code",
      "metadata": {
        "colab": {
          "base_uri": "https://localhost:8080/",
          "height": 227
        },
        "id": "yy5NjLEPgQQx",
        "outputId": "944d7c18-b5fe-49f2-a26d-d6da95f6e7d5"
      },
      "source": [
        "# show the centroids for each of the clusters (probably have to rescale to greyscale values)\n",
        "centroids = to_greyscale(kmplus.cluster_centers_)\n",
        "%matplotlib inline\n",
        "fig, ax = plt.subplots(nrows=2, ncols=5, sharex=True, sharey=True)\n",
        "ax = ax.flatten()\n",
        "for i, cent in enumerate(centroids):\n",
        "  img = cent.reshape(28,28)\n",
        "  ax[i].imshow(img, cmap='gray')\n"
      ],
      "execution_count": 70,
      "outputs": [
        {
          "output_type": "display_data",
          "data": {
            "image/png": "[encoded data removed]",
            "text/plain": [
              "<Figure size 432x288 with 10 Axes>"
            ]
          },
          "metadata": {
            "tags": [],
            "needs_background": "light"
          }
        }
      ]
    },
    {
      "cell_type": "markdown",
      "metadata": {
        "id": "1F0IZN8qglxa"
      },
      "source": [
        "#### Discuss the centroids\n",
        "---\n",
        "Once again, there seems to be a large amount of overlap between 5 and other classes, so much so that the cluster most closely representative of 5's is hardly representative at all. The 7's in the dataset seems to be overlapping quite a bit with both 1's and 9's as was seen in from the clusters produced by the algorithm using random initialization as well."
      ]
    },
    {
      "cell_type": "markdown",
      "metadata": {
        "id": "xM2zZzf4gzXM"
      },
      "source": [
        "## Using an image from each class for the 10 centroids"
      ]
    },
    {
      "cell_type": "code",
      "metadata": {
        "id": "9DVjkguN01jn"
      },
      "source": [
        "y = mnist.target[samples].astype(int)\n",
        "centroids = list() # holds the index for the centroid of each class\n",
        "for i in range(10):\n",
        "  matchlist = [ind for ind, x in enumerate(y==i) if x]\n",
        "  centroids.append(matchlist[0])\n"
      ],
      "execution_count": 71,
      "outputs": []
    },
    {
      "cell_type": "code",
      "metadata": {
        "colab": {
          "base_uri": "https://localhost:8080/",
          "height": 227
        },
        "id": "w9AS_iSohGQQ",
        "outputId": "8ccaed9b-866f-4f42-8ef3-714e248dcfc6"
      },
      "source": [
        "# grab and display an image from each class (the initial centroids)\n",
        "scaled_images = np.array([x_sampled[c] for c in centroids])\n",
        "\n",
        "fig, ax = plt.subplots(nrows=2, ncols=5, sharex=True, sharey=True)\n",
        "ax = ax.flatten()\n",
        "for i in range(10):\n",
        "  img = to_greyscale(scaled_images[i]).reshape(28,28)\n",
        "  ax[i].imshow(img, cmap='gray')"
      ],
      "execution_count": 72,
      "outputs": [
        {
          "output_type": "display_data",
          "data": {
            "image/png": "[encoded data removed]",
            "text/plain": [
              "<Figure size 432x288 with 10 Axes>"
            ]
          },
          "metadata": {
            "tags": [],
            "needs_background": "light"
          }
        }
      ]
    },
    {
      "cell_type": "code",
      "metadata": {
        "id": "uwoSjCMxgvm1"
      },
      "source": [
        "# run k-means using these images as the clusters\n",
        "km_handpicked = KMeans(n_clusters=10, init=scaled_images, n_init=1, random_state=42).fit(x_sampled)"
      ],
      "execution_count": 79,
      "outputs": []
    },
    {
      "cell_type": "code",
      "metadata": {
        "colab": {
          "base_uri": "https://localhost:8080/",
          "height": 227
        },
        "id": "sn8tctO2hD98",
        "outputId": "6de64b56-66a3-412b-df5d-0bac071030ee"
      },
      "source": [
        "# display the new clusters resulting from the kmeans\n",
        "centroids = to_greyscale(km_handpicked.cluster_centers_)\n",
        "%matplotlib inline\n",
        "fig, ax = plt.subplots(nrows=2, ncols=5, sharex=True, sharey=True)\n",
        "ax = ax.flatten()\n",
        "for i, cent in enumerate(centroids):\n",
        "  img = cent.reshape(28,28)\n",
        "  ax[i].imshow(img, cmap='gray')"
      ],
      "execution_count": 80,
      "outputs": [
        {
          "output_type": "display_data",
          "data": {
            "image/png": "[encoded data removed]",
            "text/plain": [
              "<Figure size 432x288 with 10 Axes>"
            ]
          },
          "metadata": {
            "tags": [],
            "needs_background": "light"
          }
        }
      ]
    },
    {
      "cell_type": "markdown",
      "metadata": {
        "id": "PldpcPZlhTE7"
      },
      "source": [
        "#### Discuss the centroids\n",
        "---\n",
        "<p>In this case, the produced clusters are very far from representative of the originals. I would contribute this to the fact that this original set of clusters was very \"hairy\" and overall not very representative itself, hence a great deal of overlap between various resulting clusters.  It seems completely understandable to me that the 6th centroid ended up being more representative of a 0 than a 5 given its starting point.  I think the same can be said of the centroids initially representative of 7's or 8's too.  What I do think would fix this issue though, at least somewhat, would be more careful picking of the initial centroids.  If one were to go through the various photos for the different classes and pick images that seemed to them rather representative, you might end up with more representative centroids. That in itself, however, would also add bias to the model.</p>\n",
        "<p>As for a comparison between the approaches, I think that, in this instance, the handpicked centroids performed by far the worst (although this may not always be the case).  Between the first two approaches, I find it hard to determine which performed better.  Personally, I would pick the second approach because it seems to me that the cluster that is supposed to represent 5's is ever so slightly darker between the top of the five and the top of the loop underneath. </p>"
      ]
    },
    {
      "cell_type": "code",
      "metadata": {
        "colab": {
          "base_uri": "https://localhost:8080/"
        },
        "id": "CbFll_m0hbBV",
        "outputId": "cb42a42f-4e96-4674-ebcb-923cf51c6b78"
      },
      "source": [
        "# compute and display the variance of each of the three approaches\n",
        "(int(kmeans.inertia_), int(kmplus.inertia_), int(km_handpicked.inertia_))"
      ],
      "execution_count": 82,
      "outputs": [
        {
          "output_type": "execute_result",
          "data": {
            "text/plain": [
              "(1563727, 1563702, 1569704)"
            ]
          },
          "metadata": {
            "tags": []
          },
          "execution_count": 82
        }
      ]
    },
    {
      "cell_type": "markdown",
      "metadata": {
        "id": "YNCpyhB3FQJh"
      },
      "source": [
        "The calculated variance of each of the models makes it a little clearer how each performed.  As was mentioned above, the third approach most certainly performed the worst.  Beyond that, you can see that the first and second approaches were really neck and neck. There is very little difference between the degree of variance in each model.  Empirically, it seems that the second approach performed better than the first (as would theoretically be expected), but personally, I find it almost impossible to differentiate visually."
      ]
    },
    {
      "cell_type": "markdown",
      "metadata": {
        "id": "Z-Q9TMTkW32u"
      },
      "source": [
        ""
      ]
    },
    {
      "cell_type": "markdown",
      "metadata": {
        "id": "uwSDqUyxW35k"
      },
      "source": [
        ""
      ]
    },
    {
      "cell_type": "markdown",
      "metadata": {
        "id": "1GgOyfS7W4MA"
      },
      "source": [
        ""
      ]
    },
    {
      "cell_type": "markdown",
      "metadata": {
        "id": "Vv76nLv1aHQv"
      },
      "source": [
        "RESOURCES:\n",
        "1) Hands-On Machine Learning with Scikit-Learn and TensorFlow Textbook\n",
        "</br>2) https://scikit-learn.org/stable/modules/generated/sklearn.metrics.confusion_matrix.html\n",
        "</br>3)https://numpy.org/\n"
      ]
    },
    {
      "cell_type": "code",
      "metadata": {
        "id": "nHRdfJXvpOYT"
      },
      "source": [
        "import keras\n",
        "import sklearn\n",
        "import numpy as np\n",
        "import pandas as pd\n",
        "import time\n",
        "import tensorflow as tf\n",
        "from numpy import vstack\n",
        "from numpy import argmax\n",
        "from sklearn import metrics\n",
        "import matplotlib.pyplot as plt\n",
        "from keras.datasets import mnist\n",
        "from sklearn.pipeline import Pipeline\n",
        "from sklearn.decomposition import PCA\n",
        "from sklearn.datasets import fetch_openml\n",
        "from sklearn.metrics import accuracy_score\n",
        "from sklearn.preprocessing import normalize\n",
        "from sklearn.preprocessing import StandardScaler\n",
        "from sklearn.model_selection import cross_val_score\n",
        "from sklearn.model_selection import train_test_split\n",
        "from sklearn.ensemble import RandomForestClassifier\n",
        "from sklearn.metrics import classification_report, confusion_matrix\n",
        "from sklearn.model_selection import RandomizedSearchCV, GridSearchCV \n"
      ],
      "execution_count": null,
      "outputs": []
    },
    {
      "cell_type": "markdown",
      "metadata": {
        "id": "TnyRCaAYZbe4"
      },
      "source": [
        "**Divide** **the** **MNIST** **dataset** **into** **a** **training** **and** **a** **testing** **set** **using** **60,000** **images** **for** **training** **and**\n",
        "**the** **remaining** **for** **testing**."
      ]
    },
    {
      "cell_type": "code",
      "metadata": {
        "id": "EAQ9_rdGpTfT",
        "colab": {
          "base_uri": "https://localhost:8080/"
        },
        "outputId": "52ba043b-456e-4302-c439-3225bafa45fa"
      },
      "source": [
        "mnist_dataset = tf.keras.datasets.mnist.load_data(path=\"mnist.npz\")"
      ],
      "execution_count": null,
      "outputs": [
        {
          "output_type": "stream",
          "text": [
            "Downloading data from https://storage.googleapis.com/tensorflow/tf-keras-datasets/mnist.npz\n",
            "11493376/11490434 [==============================] - 0s 0us/step\n"
          ],
          "name": "stdout"
        }
      ]
    },
    {
      "cell_type": "code",
      "metadata": {
        "id": "pMs6F1d5pxJD"
      },
      "source": [
        "(X_train,Y_train), (X_test,Y_test) = mnist_dataset\n",
        "timet = []"
      ],
      "execution_count": null,
      "outputs": []
    },
    {
      "cell_type": "code",
      "metadata": {
        "colab": {
          "base_uri": "https://localhost:8080/"
        },
        "id": "q2DK3BK_p1N_",
        "outputId": "ddc75244-6a99-4ffc-c9b2-2b8f63b60d31"
      },
      "source": [
        "X_train = X_train.reshape(X_train.shape[0],784) \n",
        "X_test =  X_test.reshape(X_test.shape[0],784)\n",
        "print(X_train.shape,X_test.shape,Y_train.shape,Y_test.shape)"
      ],
      "execution_count": null,
      "outputs": [
        {
          "output_type": "stream",
          "text": [
            "(60000, 784) (10000, 784) (60000,) (10000,)\n"
          ],
          "name": "stdout"
        }
      ]
    },
    {
      "cell_type": "markdown",
      "metadata": {
        "id": "yOJpuDgBaDMK"
      },
      "source": [
        "**Train** **a** **Random** **Forest** **classifier** **using** **the** **training** **data** **and** **evaluate** **how** **long** **it** **takes** **to**\n",
        "**train**. "
      ]
    },
    {
      "cell_type": "code",
      "metadata": {
        "id": "Y6xbuU1XZugY"
      },
      "source": [
        "random_clf = RandomForestClassifier(n_estimators=100, max_depth=None)"
      ],
      "execution_count": null,
      "outputs": []
    },
    {
      "cell_type": "code",
      "metadata": {
        "id": "8Dgso2Yqa42f"
      },
      "source": [
        "t0 = time.time()\n",
        "random_clf.fit(X_train, Y_train)\n",
        "t1 = time.time()\n",
        "time_taken = (t1 - t0)"
      ],
      "execution_count": null,
      "outputs": []
    },
    {
      "cell_type": "code",
      "metadata": {
        "colab": {
          "base_uri": "https://localhost:8080/"
        },
        "id": "Qsf28x2IbWEQ",
        "outputId": "4c263231-5fe3-4317-9e32-d312608bae67"
      },
      "source": [
        "time_taken"
      ],
      "execution_count": null,
      "outputs": [
        {
          "output_type": "execute_result",
          "data": {
            "text/plain": [
              "47.5067195892334"
            ]
          },
          "metadata": {
            "tags": []
          },
          "execution_count": 7
        }
      ]
    },
    {
      "cell_type": "markdown",
      "metadata": {
        "id": "BSVTRp-HdYsA"
      },
      "source": [
        "**Test** **the** **classifier** **with** **the** **testing** **data** **and** **generate** **a** **confusion** **matrix** **and** **compute** **the**\n",
        "**overall** **accuracy.** "
      ]
    },
    {
      "cell_type": "code",
      "metadata": {
        "colab": {
          "base_uri": "https://localhost:8080/"
        },
        "id": "TS6Is6UxbYbu",
        "outputId": "ac6ca076-6a3d-43c1-a49b-0163bcfe8f8d"
      },
      "source": [
        "y_pred = random_clf.predict(X_test)\n",
        "print('Accuracy score: ',accuracy_score(Y_test, y_pred))"
      ],
      "execution_count": null,
      "outputs": [
        {
          "output_type": "stream",
          "text": [
            "Accuracy score:  0.9688\n"
          ],
          "name": "stdout"
        }
      ]
    },
    {
      "cell_type": "code",
      "metadata": {
        "colab": {
          "base_uri": "https://localhost:8080/"
        },
        "id": "yOmZA7B7cmnJ",
        "outputId": "86e6a1e7-93ae-4274-877b-8126fafb70d4"
      },
      "source": [
        "cm = confusion_matrix(y_pred, Y_test)\n",
        "print(cm)"
      ],
      "execution_count": null,
      "outputs": [
        {
          "output_type": "stream",
          "text": [
            "[[ 971    0    5    1    1    3    5    1    4    6]\n",
            " [   0 1124    0    0    0    0    3    2    0    5]\n",
            " [   1    3 1002   11    2    2    0   21    3    1]\n",
            " [   0    2    7  968    0   11    0    0    5   11]\n",
            " [   0    0    2    0  949    2    3    2    5   14]\n",
            " [   2    2    0    8    0  860    4    0    8    3]\n",
            " [   2    2    3    0    5    5  940    0    4    1]\n",
            " [   1    1    8    9    0    1    0  988    4    4]\n",
            " [   3    1    5    9    2    4    3    2  929    7]\n",
            " [   0    0    0    4   23    4    0   12   12  957]]\n"
          ],
          "name": "stdout"
        }
      ]
    },
    {
      "cell_type": "markdown",
      "metadata": {
        "id": "h6QIdy1qgL3s"
      },
      "source": [
        "**Using** **PCA** **to** **reduce** **the** **dataset’s** **dimensionality**, **using** **explained** **variance** **ratio’s** **of:** **95%**"
      ]
    },
    {
      "cell_type": "code",
      "metadata": {
        "id": "0zpc8q_Xa3nS"
      },
      "source": [
        "(X_train,Y_train), (X_test,Y_test) = mnist_dataset\n",
        "X_train = X_train.reshape(X_train.shape[0],784) \n",
        "X_test =  X_test.reshape(X_test.shape[0],784)"
      ],
      "execution_count": null,
      "outputs": []
    },
    {
      "cell_type": "code",
      "metadata": {
        "id": "d-Hg0rfGcmqm"
      },
      "source": [
        "pca = PCA(n_components=0.95, svd_solver='full')\n",
        "X_train_reduced = pca.fit_transform(X_train)"
      ],
      "execution_count": null,
      "outputs": []
    },
    {
      "cell_type": "code",
      "metadata": {
        "id": "ERCMgc0oeBJ8"
      },
      "source": [
        "random_clf2 = RandomForestClassifier(n_estimators=100, max_depth=None)\n",
        "t0 = time.time()\n",
        "random_clf2.fit(X_train_reduced, Y_train)\n",
        "t1 = time.time()\n",
        "time_taken = (t1-t0)"
      ],
      "execution_count": null,
      "outputs": []
    },
    {
      "cell_type": "code",
      "metadata": {
        "colab": {
          "base_uri": "https://localhost:8080/"
        },
        "id": "1Uh--nvceBMz",
        "outputId": "4bf9551d-133b-45f0-b37d-ea72956044be"
      },
      "source": [
        "timet.append(round(t1-t0,4))\n",
        "time_taken"
      ],
      "execution_count": null,
      "outputs": [
        {
          "output_type": "execute_result",
          "data": {
            "text/plain": [
              "126.17418169975281"
            ]
          },
          "metadata": {
            "tags": []
          },
          "execution_count": 13
        }
      ]
    },
    {
      "cell_type": "code",
      "metadata": {
        "colab": {
          "base_uri": "https://localhost:8080/"
        },
        "id": "UQt3O7qpeBPk",
        "outputId": "cf7dcafd-dbc3-4c56-ec03-bf68e4fcdeb9"
      },
      "source": [
        "X_test_reduced = pca.transform(X_test)\n",
        "\n",
        "y_pred = random_clf2.predict(X_test_reduced)\n",
        "accuracy_score(Y_test, y_pred)"
      ],
      "execution_count": null,
      "outputs": [
        {
          "output_type": "execute_result",
          "data": {
            "text/plain": [
              "0.9497"
            ]
          },
          "metadata": {
            "tags": []
          },
          "execution_count": 14
        }
      ]
    },
    {
      "cell_type": "code",
      "metadata": {
        "colab": {
          "base_uri": "https://localhost:8080/"
        },
        "id": "N6suQvePeBXI",
        "outputId": "dbbc9d97-cd6f-470a-b2d6-2fe989679038"
      },
      "source": [
        "cm1 = confusion_matrix(y_pred, Y_test)\n",
        "print(cm1)"
      ],
      "execution_count": null,
      "outputs": [
        {
          "output_type": "stream",
          "text": [
            "[[ 965    1   10    2    1    7   10    0    7    7]\n",
            " [   0 1118    0    0    2    1    4    7    0    6]\n",
            " [   3    2  974    6    5    1    1   21    8    3]\n",
            " [   0    4   10  960    0   26    0    2   26   15]\n",
            " [   0    0    3    0  941    6    3   10   14   22]\n",
            " [   1    0    0   12    2  831    3    0   18    2]\n",
            " [   5    7    3    2    6    8  937    0    5    1]\n",
            " [   2    1    6    8    0    4    0  962    5   13]\n",
            " [   4    2   25   15    4    5    0    6  879   10]\n",
            " [   0    0    1    5   21    3    0   20   12  930]]\n"
          ],
          "name": "stdout"
        }
      ]
    },
    {
      "cell_type": "markdown",
      "metadata": {
        "id": "WCuK-f5Ov9gJ"
      },
      "source": [
        "**Using** **PCA** **to** **reduce** **the** **dataset’s** **dimensionality**, **using** **explained** **variance** **ratio’s** **of:** **90%**"
      ]
    },
    {
      "cell_type": "code",
      "metadata": {
        "id": "Re-MZCJLbnX2"
      },
      "source": [
        "(X_train,Y_train), (X_test,Y_test) = mnist_dataset\n",
        "X_train = X_train.reshape(X_train.shape[0],784) \n",
        "X_test =  X_test.reshape(X_test.shape[0],784)"
      ],
      "execution_count": null,
      "outputs": []
    },
    {
      "cell_type": "code",
      "metadata": {
        "id": "NMvnmcDWv4N6"
      },
      "source": [
        "pca = PCA(n_components=0.90, svd_solver='full')\n",
        "X_train_reduced_90 = pca.fit_transform(X_train)"
      ],
      "execution_count": null,
      "outputs": []
    },
    {
      "cell_type": "code",
      "metadata": {
        "id": "dEI9XaIbv4Ql"
      },
      "source": [
        "random_clf3 = RandomForestClassifier(n_estimators=100, max_depth=None)\n",
        "t0 = time.time()\n",
        "random_clf3.fit(X_train_reduced_90, Y_train)\n",
        "t1 = time.time()\n",
        "time_taken = (t1-t0)"
      ],
      "execution_count": null,
      "outputs": []
    },
    {
      "cell_type": "code",
      "metadata": {
        "colab": {
          "base_uri": "https://localhost:8080/"
        },
        "id": "lXK26gl5v4Tl",
        "outputId": "45920185-aa8e-4b9b-afb2-961b5e10aa59"
      },
      "source": [
        "timet.append(round(t1-t0,4))\n",
        "time_taken"
      ],
      "execution_count": null,
      "outputs": [
        {
          "output_type": "execute_result",
          "data": {
            "text/plain": [
              "95.48549032211304"
            ]
          },
          "metadata": {
            "tags": []
          },
          "execution_count": 19
        }
      ]
    },
    {
      "cell_type": "code",
      "metadata": {
        "colab": {
          "base_uri": "https://localhost:8080/"
        },
        "id": "28QUVhU9v4Vm",
        "outputId": "fab8286f-0f38-4acc-9108-d7fab9cc8684"
      },
      "source": [
        "X_test_reduced_90 = pca.transform(X_test)\n",
        "\n",
        "y_pred = random_clf3.predict(X_test_reduced_90)\n",
        "accuracy_score(Y_test, y_pred)"
      ],
      "execution_count": null,
      "outputs": [
        {
          "output_type": "execute_result",
          "data": {
            "text/plain": [
              "0.952"
            ]
          },
          "metadata": {
            "tags": []
          },
          "execution_count": 20
        }
      ]
    },
    {
      "cell_type": "code",
      "metadata": {
        "colab": {
          "base_uri": "https://localhost:8080/"
        },
        "id": "rI8r6hxcv4YT",
        "outputId": "5faf54ec-b618-4da9-d227-6acdabb30771"
      },
      "source": [
        "cm2 = confusion_matrix(y_pred, Y_test)\n",
        "print(cm2)"
      ],
      "execution_count": null,
      "outputs": [
        {
          "output_type": "stream",
          "text": [
            "[[ 965    0   11    2    0    5    7    0    7    6]\n",
            " [   0 1119    0    0    1    1    4    5    0    6]\n",
            " [   3    4  970    6    4    3    2   16   13    1]\n",
            " [   0    4   13  956    0   17    1    1   22   11]\n",
            " [   0    0    5    0  939    4    3    5    8   32]\n",
            " [   2    0    2   16    2  842    4    1   17    6]\n",
            " [   6    4    4    1    6   10  937    0    3    1]\n",
            " [   1    1    6    8    2    2    0  979    7   11]\n",
            " [   3    3   20   15    2    4    0    3  887    9]\n",
            " [   0    0    1    6   26    4    0   18   10  926]]\n"
          ],
          "name": "stdout"
        }
      ]
    },
    {
      "cell_type": "markdown",
      "metadata": {
        "id": "BEWcFKc5xNpd"
      },
      "source": [
        "**Using** **PCA** **to** **reduce** **the** **dataset’s** **dimensionality**, **using** **explained** **variance** **ratio’s** **of:** **85%**"
      ]
    },
    {
      "cell_type": "code",
      "metadata": {
        "id": "FoHPV1wibpyx"
      },
      "source": [
        "(X_train,Y_train), (X_test,Y_test) = mnist_dataset\n",
        "X_train = X_train.reshape(X_train.shape[0],784) \n",
        "X_test =  X_test.reshape(X_test.shape[0],784)"
      ],
      "execution_count": null,
      "outputs": []
    },
    {
      "cell_type": "code",
      "metadata": {
        "id": "JLJ0Ejshv4da"
      },
      "source": [
        "pca = PCA(n_components=0.85, svd_solver='full')\n",
        "X_train_reduced_85 = pca.fit_transform(X_train)"
      ],
      "execution_count": null,
      "outputs": []
    },
    {
      "cell_type": "code",
      "metadata": {
        "id": "rICj4eEtp3oS"
      },
      "source": [
        "random_clf4 = RandomForestClassifier(n_estimators=100, max_depth=None)\n",
        "t0 = time.time()\n",
        "random_clf4.fit(X_train_reduced_85, Y_train)\n",
        "t1 = time.time()"
      ],
      "execution_count": null,
      "outputs": []
    },
    {
      "cell_type": "code",
      "metadata": {
        "id": "TCbwepbjqBMb",
        "colab": {
          "base_uri": "https://localhost:8080/"
        },
        "outputId": "a4ffb4da-ae36-4369-f70f-29933f8739c8"
      },
      "source": [
        "timet.append(round(t1-t0,4))\n",
        "(t1 - t0)"
      ],
      "execution_count": null,
      "outputs": [
        {
          "output_type": "execute_result",
          "data": {
            "text/plain": [
              "72.88501834869385"
            ]
          },
          "metadata": {
            "tags": []
          },
          "execution_count": 25
        }
      ]
    },
    {
      "cell_type": "code",
      "metadata": {
        "colab": {
          "base_uri": "https://localhost:8080/"
        },
        "id": "vFCRkjsgq8Gh",
        "outputId": "865df576-5cc4-4b27-f03a-8a7e4dc01b35"
      },
      "source": [
        "X_test_reduced_85 = pca.transform(X_test)\n",
        "\n",
        "y_pred = random_clf4.predict(X_test_reduced_85)\n",
        "accuracy_score(Y_test, y_pred)"
      ],
      "execution_count": null,
      "outputs": [
        {
          "output_type": "execute_result",
          "data": {
            "text/plain": [
              "0.9548"
            ]
          },
          "metadata": {
            "tags": []
          },
          "execution_count": 26
        }
      ]
    },
    {
      "cell_type": "code",
      "metadata": {
        "id": "ZWI210Gjq-Mb",
        "colab": {
          "base_uri": "https://localhost:8080/"
        },
        "outputId": "7e677fba-a4da-4440-8b1f-395efb45e719"
      },
      "source": [
        "cm3 = confusion_matrix(y_pred, Y_test)\n",
        "print(cm3)"
      ],
      "execution_count": null,
      "outputs": [
        {
          "output_type": "stream",
          "text": [
            "[[ 965    0    7    1    0    4    6    0    5    3]\n",
            " [   0 1119    0    0    1    1    3    6    0    6]\n",
            " [   3    3  973    7    4    3    0   17    9    2]\n",
            " [   0    4   13  957    0   16    0    2   17   14]\n",
            " [   0    0    7    1  936    4    5    6   11   21]\n",
            " [   4    0    1   14    3  847    3    1   16    4]\n",
            " [   6    4    4    2   10    7  941    0    4    2]\n",
            " [   1    0   10    7    2    1    0  972    6    8]\n",
            " [   1    4   17   17    3    5    0    2  899   10]\n",
            " [   0    1    0    4   23    4    0   22    7  939]]\n"
          ],
          "name": "stdout"
        }
      ]
    },
    {
      "cell_type": "markdown",
      "metadata": {
        "id": "HfnPdfZxrMxE"
      },
      "source": [
        "<h2>Influence of variance ratio:</h2>\n",
        "<table style=\"width:100%\">\n",
        "  <tr>\n",
        "    <th>Initial Training Time</th>\n",
        "    <th>95% Variance Training Time</th>\n",
        "    <th>90% Variance Training Time</th>\n",
        "    <th>85% Variance Training Time</th>\n",
        "  </tr>\n",
        "  <tr>\n",
        "    <td>47.506719 secs</td>\n",
        "    <td>126.174181 secs</td>\n",
        "    <td>95.485490 secs</td>\n",
        "    <td>72.88501 secs</td>\n",
        "  </tr>\n",
        "</table>\n",
        "<h2>Reasoning</h2>\n",
        "<p>It can be seen that training time does not really decrease with dimensionality reduction rather it is increasing and then decreasing by some small factor, it is so because dimensionality reduction does not always lead to faster training time: it depends on the dataset, the model and the training algorithm.</p>\n",
        "<p>If we use some other classifier like Softmax Classifier instead of Random Forest Classifier then we might see some decrease in training time</p>\n"
      ]
    },
    {
      "cell_type": "code",
      "metadata": {
        "colab": {
          "base_uri": "https://localhost:8080/",
          "height": 282
        },
        "id": "KJyd12M_3Ibc",
        "outputId": "362fc7d7-2fb8-460d-a969-b1ca7fefb74d"
      },
      "source": [
        "plt.plot(timet,'-*')"
      ],
      "execution_count": null,
      "outputs": [
        {
          "output_type": "execute_result",
          "data": {
            "text/plain": [
              "[<matplotlib.lines.Line2D at 0x7fc1c781e250>]"
            ]
          },
          "metadata": {
            "tags": []
          },
          "execution_count": 28
        },
        {
          "output_type": "display_data",
          "data": {
            "image/png": "[encoded data removed]",
            "text/plain": [
              "<Figure size 432x288 with 1 Axes>"
            ]
          },
          "metadata": {
            "tags": [],
            "needs_background": "light"
          }
        }
      ]
    },
    {
      "cell_type": "markdown",
      "metadata": {
        "id": "AiHwZI0lwLhp"
      },
      "source": [
        "<h2>Performance Differences:</h2>\n",
        "<table style=\"width:100%\">\n",
        "  <tr>\n",
        "    <th>Initial Performance Accuracy</th>\n",
        "    <th>95% variance Accuracy </th>\n",
        "    <th>90% Variance Accuracy</th>\n",
        "    <th>85% Variance Accuracy</th>\n",
        "  </tr>\n",
        "  <tr>\n",
        "    <td>96.88%</td>\n",
        "    <td>94.97%</td>\n",
        "    <td>95.2%</td>\n",
        "    <td>95.48%</td>\n",
        "  </tr>\n",
        "</table>\n",
        "<h2>Reasoning</h2>\n",
        "<p>It is common for performance to drop slightly when reducing dimensionality, because we do lose some useful signal in the process. However, the performance drop is rather severe that is approximately 2% in all the three cases as compared to initial performance accuracy.</p>\n",
        "<p>So PCA really did not help: it slowed down training and reduced performance.</p>\n"
      ]
    }
  ]
}